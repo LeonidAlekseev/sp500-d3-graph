{
 "cells": [
  {
   "cell_type": "code",
   "execution_count": null,
   "metadata": {},
   "outputs": [
    {
     "name": "stderr",
     "output_type": "stream",
     "text": [
      "/Users/leonidalekseev/VSCodeProjects/sp500-d3-graph/.venv/lib/python3.13/site-packages/tqdm/auto.py:21: TqdmWarning: IProgress not found. Please update jupyter and ipywidgets. See https://ipywidgets.readthedocs.io/en/stable/user_install.html\n",
      "  from .autonotebook import tqdm as notebook_tqdm\n"
     ]
    },
    {
     "name": "stdout",
     "output_type": "stream",
     "text": [
      "Downloading from https://www.kaggle.com/api/v1/datasets/download/andrewmvd/sp-500-stocks?dataset_version_number=1017...\n"
     ]
    },
    {
     "name": "stderr",
     "output_type": "stream",
     "text": [
      "100%|██████████| 44.7M/44.7M [00:04<00:00, 10.3MB/s]"
     ]
    },
    {
     "name": "stdout",
     "output_type": "stream",
     "text": [
      "Extracting files...\n"
     ]
    },
    {
     "name": "stderr",
     "output_type": "stream",
     "text": [
      "\n"
     ]
    },
    {
     "name": "stdout",
     "output_type": "stream",
     "text": [
      "Path to dataset files: /Users/leonidalekseev/.cache/kagglehub/datasets/andrewmvd/sp-500-stocks/versions/1017\n"
     ]
    }
   ],
   "source": [
    "import kagglehub\n",
    "\n",
    "# Download latest version\n",
    "path = kagglehub.dataset_download(\"andrewmvd/sp-500-stocks\")\n",
    "\n",
    "print(\"Path to dataset files:\", path)"
   ]
  },
  {
   "cell_type": "code",
   "execution_count": 1,
   "metadata": {},
   "outputs": [],
   "source": [
    "import os\n",
    "import pandas as pd\n",
    "\n",
    "# Создание DataFrame\n",
    "path = \"/Users/leonidalekseev/.cache/kagglehub/datasets/andrewmvd/sp-500-stocks/versions/1017\"\n",
    "df = pd.read_csv(os.path.join(path, \"sp500_stocks.csv\"))\n",
    "df_info = pd.read_csv(os.path.join(path, \"sp500_companies.csv\"))"
   ]
  },
  {
   "cell_type": "code",
   "execution_count": 8,
   "metadata": {},
   "outputs": [
    {
     "data": {
      "text/html": [
       "<div>\n",
       "<style scoped>\n",
       "    .dataframe tbody tr th:only-of-type {\n",
       "        vertical-align: middle;\n",
       "    }\n",
       "\n",
       "    .dataframe tbody tr th {\n",
       "        vertical-align: top;\n",
       "    }\n",
       "\n",
       "    .dataframe thead th {\n",
       "        text-align: right;\n",
       "    }\n",
       "</style>\n",
       "<table border=\"1\" class=\"dataframe\">\n",
       "  <thead>\n",
       "    <tr style=\"text-align: right;\">\n",
       "      <th></th>\n",
       "      <th>Date</th>\n",
       "      <th>Symbol</th>\n",
       "      <th>Adj Close</th>\n",
       "      <th>Close</th>\n",
       "      <th>High</th>\n",
       "      <th>Low</th>\n",
       "      <th>Open</th>\n",
       "      <th>Volume</th>\n",
       "    </tr>\n",
       "  </thead>\n",
       "  <tbody>\n",
       "    <tr>\n",
       "      <th>0</th>\n",
       "      <td>2010-01-04</td>\n",
       "      <td>MMM</td>\n",
       "      <td>46.422302</td>\n",
       "      <td>69.414719</td>\n",
       "      <td>69.774246</td>\n",
       "      <td>69.122070</td>\n",
       "      <td>69.473244</td>\n",
       "      <td>3640265.0</td>\n",
       "    </tr>\n",
       "    <tr>\n",
       "      <th>1</th>\n",
       "      <td>2010-01-05</td>\n",
       "      <td>MMM</td>\n",
       "      <td>46.131523</td>\n",
       "      <td>68.979935</td>\n",
       "      <td>69.590302</td>\n",
       "      <td>68.311035</td>\n",
       "      <td>69.230766</td>\n",
       "      <td>3405012.0</td>\n",
       "    </tr>\n",
       "    <tr>\n",
       "      <th>2</th>\n",
       "      <td>2010-01-06</td>\n",
       "      <td>MMM</td>\n",
       "      <td>46.785759</td>\n",
       "      <td>69.958191</td>\n",
       "      <td>70.735786</td>\n",
       "      <td>69.824417</td>\n",
       "      <td>70.133781</td>\n",
       "      <td>6301126.0</td>\n",
       "    </tr>\n",
       "    <tr>\n",
       "      <th>3</th>\n",
       "      <td>2010-01-07</td>\n",
       "      <td>MMM</td>\n",
       "      <td>46.819294</td>\n",
       "      <td>70.008362</td>\n",
       "      <td>70.033447</td>\n",
       "      <td>68.662209</td>\n",
       "      <td>69.665550</td>\n",
       "      <td>5346240.0</td>\n",
       "    </tr>\n",
       "    <tr>\n",
       "      <th>4</th>\n",
       "      <td>2010-01-08</td>\n",
       "      <td>MMM</td>\n",
       "      <td>47.149204</td>\n",
       "      <td>70.501671</td>\n",
       "      <td>70.501671</td>\n",
       "      <td>69.648827</td>\n",
       "      <td>69.974915</td>\n",
       "      <td>4073337.0</td>\n",
       "    </tr>\n",
       "  </tbody>\n",
       "</table>\n",
       "</div>"
      ],
      "text/plain": [
       "         Date Symbol  Adj Close      Close       High        Low       Open  \\\n",
       "0  2010-01-04    MMM  46.422302  69.414719  69.774246  69.122070  69.473244   \n",
       "1  2010-01-05    MMM  46.131523  68.979935  69.590302  68.311035  69.230766   \n",
       "2  2010-01-06    MMM  46.785759  69.958191  70.735786  69.824417  70.133781   \n",
       "3  2010-01-07    MMM  46.819294  70.008362  70.033447  68.662209  69.665550   \n",
       "4  2010-01-08    MMM  47.149204  70.501671  70.501671  69.648827  69.974915   \n",
       "\n",
       "      Volume  \n",
       "0  3640265.0  \n",
       "1  3405012.0  \n",
       "2  6301126.0  \n",
       "3  5346240.0  \n",
       "4  4073337.0  "
      ]
     },
     "execution_count": 8,
     "metadata": {},
     "output_type": "execute_result"
    }
   ],
   "source": [
    "df.head()"
   ]
  },
  {
   "cell_type": "code",
   "execution_count": 7,
   "metadata": {},
   "outputs": [
    {
     "data": {
      "text/html": [
       "<div>\n",
       "<style scoped>\n",
       "    .dataframe tbody tr th:only-of-type {\n",
       "        vertical-align: middle;\n",
       "    }\n",
       "\n",
       "    .dataframe tbody tr th {\n",
       "        vertical-align: top;\n",
       "    }\n",
       "\n",
       "    .dataframe thead th {\n",
       "        text-align: right;\n",
       "    }\n",
       "</style>\n",
       "<table border=\"1\" class=\"dataframe\">\n",
       "  <thead>\n",
       "    <tr style=\"text-align: right;\">\n",
       "      <th></th>\n",
       "      <th>Exchange</th>\n",
       "      <th>Symbol</th>\n",
       "      <th>Shortname</th>\n",
       "      <th>Longname</th>\n",
       "      <th>Sector</th>\n",
       "      <th>Industry</th>\n",
       "      <th>Currentprice</th>\n",
       "      <th>Marketcap</th>\n",
       "      <th>Ebitda</th>\n",
       "      <th>Revenuegrowth</th>\n",
       "      <th>City</th>\n",
       "      <th>State</th>\n",
       "      <th>Country</th>\n",
       "      <th>Fulltimeemployees</th>\n",
       "      <th>Longbusinesssummary</th>\n",
       "      <th>Weight</th>\n",
       "    </tr>\n",
       "  </thead>\n",
       "  <tbody>\n",
       "    <tr>\n",
       "      <th>0</th>\n",
       "      <td>NMS</td>\n",
       "      <td>AAPL</td>\n",
       "      <td>Apple Inc.</td>\n",
       "      <td>Apple Inc.</td>\n",
       "      <td>Technology</td>\n",
       "      <td>Consumer Electronics</td>\n",
       "      <td>251.04</td>\n",
       "      <td>3794670190592</td>\n",
       "      <td>1.346610e+11</td>\n",
       "      <td>0.061</td>\n",
       "      <td>Cupertino</td>\n",
       "      <td>CA</td>\n",
       "      <td>United States</td>\n",
       "      <td>164000.0</td>\n",
       "      <td>Apple Inc. designs, manufactures, and markets ...</td>\n",
       "      <td>0.066601</td>\n",
       "    </tr>\n",
       "    <tr>\n",
       "      <th>1</th>\n",
       "      <td>NMS</td>\n",
       "      <td>MSFT</td>\n",
       "      <td>Microsoft Corporation</td>\n",
       "      <td>Microsoft Corporation</td>\n",
       "      <td>Technology</td>\n",
       "      <td>Software - Infrastructure</td>\n",
       "      <td>451.59</td>\n",
       "      <td>3357517545472</td>\n",
       "      <td>1.365520e+11</td>\n",
       "      <td>0.160</td>\n",
       "      <td>Redmond</td>\n",
       "      <td>WA</td>\n",
       "      <td>United States</td>\n",
       "      <td>228000.0</td>\n",
       "      <td>Microsoft Corporation develops and supports so...</td>\n",
       "      <td>0.058928</td>\n",
       "    </tr>\n",
       "    <tr>\n",
       "      <th>2</th>\n",
       "      <td>NMS</td>\n",
       "      <td>NVDA</td>\n",
       "      <td>NVIDIA Corporation</td>\n",
       "      <td>NVIDIA Corporation</td>\n",
       "      <td>Technology</td>\n",
       "      <td>Semiconductors</td>\n",
       "      <td>132.00</td>\n",
       "      <td>3232680116224</td>\n",
       "      <td>6.118400e+10</td>\n",
       "      <td>1.224</td>\n",
       "      <td>Santa Clara</td>\n",
       "      <td>CA</td>\n",
       "      <td>United States</td>\n",
       "      <td>29600.0</td>\n",
       "      <td>NVIDIA Corporation provides graphics and compu...</td>\n",
       "      <td>0.056737</td>\n",
       "    </tr>\n",
       "    <tr>\n",
       "      <th>3</th>\n",
       "      <td>NMS</td>\n",
       "      <td>AMZN</td>\n",
       "      <td>Amazon.com, Inc.</td>\n",
       "      <td>Amazon.com, Inc.</td>\n",
       "      <td>Consumer Cyclical</td>\n",
       "      <td>Internet Retail</td>\n",
       "      <td>232.93</td>\n",
       "      <td>2449258840064</td>\n",
       "      <td>1.115830e+11</td>\n",
       "      <td>0.110</td>\n",
       "      <td>Seattle</td>\n",
       "      <td>WA</td>\n",
       "      <td>United States</td>\n",
       "      <td>1551000.0</td>\n",
       "      <td>Amazon.com, Inc. engages in the retail sale of...</td>\n",
       "      <td>0.042987</td>\n",
       "    </tr>\n",
       "    <tr>\n",
       "      <th>4</th>\n",
       "      <td>NMS</td>\n",
       "      <td>GOOGL</td>\n",
       "      <td>Alphabet Inc.</td>\n",
       "      <td>Alphabet Inc.</td>\n",
       "      <td>Communication Services</td>\n",
       "      <td>Internet Content &amp; Information</td>\n",
       "      <td>196.66</td>\n",
       "      <td>2416263036928</td>\n",
       "      <td>1.234700e+11</td>\n",
       "      <td>0.151</td>\n",
       "      <td>Mountain View</td>\n",
       "      <td>CA</td>\n",
       "      <td>United States</td>\n",
       "      <td>181269.0</td>\n",
       "      <td>Alphabet Inc. offers various products and plat...</td>\n",
       "      <td>0.042408</td>\n",
       "    </tr>\n",
       "  </tbody>\n",
       "</table>\n",
       "</div>"
      ],
      "text/plain": [
       "  Exchange Symbol              Shortname               Longname  \\\n",
       "0      NMS   AAPL             Apple Inc.             Apple Inc.   \n",
       "1      NMS   MSFT  Microsoft Corporation  Microsoft Corporation   \n",
       "2      NMS   NVDA     NVIDIA Corporation     NVIDIA Corporation   \n",
       "3      NMS   AMZN       Amazon.com, Inc.       Amazon.com, Inc.   \n",
       "4      NMS  GOOGL          Alphabet Inc.          Alphabet Inc.   \n",
       "\n",
       "                   Sector                        Industry  Currentprice  \\\n",
       "0              Technology            Consumer Electronics        251.04   \n",
       "1              Technology       Software - Infrastructure        451.59   \n",
       "2              Technology                  Semiconductors        132.00   \n",
       "3       Consumer Cyclical                 Internet Retail        232.93   \n",
       "4  Communication Services  Internet Content & Information        196.66   \n",
       "\n",
       "       Marketcap        Ebitda  Revenuegrowth           City State  \\\n",
       "0  3794670190592  1.346610e+11          0.061      Cupertino    CA   \n",
       "1  3357517545472  1.365520e+11          0.160        Redmond    WA   \n",
       "2  3232680116224  6.118400e+10          1.224    Santa Clara    CA   \n",
       "3  2449258840064  1.115830e+11          0.110        Seattle    WA   \n",
       "4  2416263036928  1.234700e+11          0.151  Mountain View    CA   \n",
       "\n",
       "         Country  Fulltimeemployees  \\\n",
       "0  United States           164000.0   \n",
       "1  United States           228000.0   \n",
       "2  United States            29600.0   \n",
       "3  United States          1551000.0   \n",
       "4  United States           181269.0   \n",
       "\n",
       "                                 Longbusinesssummary    Weight  \n",
       "0  Apple Inc. designs, manufactures, and markets ...  0.066601  \n",
       "1  Microsoft Corporation develops and supports so...  0.058928  \n",
       "2  NVIDIA Corporation provides graphics and compu...  0.056737  \n",
       "3  Amazon.com, Inc. engages in the retail sale of...  0.042987  \n",
       "4  Alphabet Inc. offers various products and plat...  0.042408  "
      ]
     },
     "execution_count": 7,
     "metadata": {},
     "output_type": "execute_result"
    }
   ],
   "source": [
    "df_info.head()"
   ]
  },
  {
   "cell_type": "code",
   "execution_count": 2,
   "metadata": {},
   "outputs": [],
   "source": [
    "# Преобразование столбца 'Date' в datetime\n",
    "df[\"Date\"] = pd.to_datetime(df[\"Date\"])\n",
    "\n",
    "# Добавление года в отдельный столбец\n",
    "df[\"Year\"] = df[\"Date\"].dt.year\n",
    "\n",
    "# Группировка данных по году и символу\n",
    "result = (\n",
    "    df.groupby([\"Year\", \"Symbol\"])\n",
    "    .agg(\n",
    "        lastPrice=(\"Close\", \"last\"),\n",
    "        meanPrice=(\"Close\", \"mean\"),\n",
    "        minPrice=(\"Low\", \"min\"),\n",
    "        maxPrice=(\"High\", \"max\"),\n",
    "        totalVolume=(\"Volume\", \"sum\"),\n",
    "    )\n",
    "    .reset_index()\n",
    ")\n",
    "\n",
    "# Получение нужной информации\n",
    "sectors_unique = df_info.Sector.unique().tolist()"
   ]
  },
  {
   "cell_type": "code",
   "execution_count": 3,
   "metadata": {},
   "outputs": [],
   "source": [
    "# Преобразование в нужный формат\n",
    "node_result = {}\n",
    "for _, row in result.iterrows():\n",
    "    year = row[\"Year\"]\n",
    "    if year not in node_result:\n",
    "        node_result[year] = []\n",
    "\n",
    "    symbol = row[\"Symbol\"]\n",
    "    name = df_info[df_info.Symbol == symbol][\"Longname\"].tolist()[0]\n",
    "    sector = df_info[df_info.Symbol == symbol][\"Sector\"].tolist()[0]\n",
    "    sector_id = sectors_unique.index(sector)\n",
    "    node_result[year].append(\n",
    "        {\n",
    "            \"id\": symbol,\n",
    "            \"name\": name,\n",
    "            \"sector\": sector,\n",
    "            \"sectorId\": sector_id,\n",
    "            \"lastPrice\": row[\"lastPrice\"],\n",
    "            \"meanPrice\": row[\"meanPrice\"],\n",
    "            \"minPrice\": row[\"minPrice\"],\n",
    "            \"maxPrice\": row[\"maxPrice\"],\n",
    "            \"totalVolume\": row[\"totalVolume\"],\n",
    "        }\n",
    "    )"
   ]
  },
  {
   "cell_type": "code",
   "execution_count": 4,
   "metadata": {},
   "outputs": [],
   "source": [
    "# Пивотирование данных для получения цен закрытия в формате, удобном для расчета корреляции\n",
    "pivot_df = df.pivot(index=\"Date\", columns=\"Symbol\", values=\"Close\")\n",
    "\n",
    "# Преобразование в нужный формат\n",
    "edge_results = {}\n",
    "for year in pivot_df.index.year.unique():\n",
    "    yearly_data = pivot_df[pivot_df.index.year == year]\n",
    "\n",
    "    # Вычисление корреляции\n",
    "    correlation_matrix = yearly_data.corr()\n",
    "\n",
    "    # Сбор пар акций и их корреляции\n",
    "    correlations = []\n",
    "    for i in range(len(correlation_matrix.columns)):\n",
    "        for j in range(i):\n",
    "            source = correlation_matrix.columns[i]\n",
    "            target = correlation_matrix.columns[j]\n",
    "            correlation_value = float(correlation_matrix.iloc[i, j])\n",
    "            if correlation_value > 0.5:\n",
    "                correlations.append(\n",
    "                    {\n",
    "                        \"source\": source,\n",
    "                        \"target\": target,\n",
    "                        \"correlation\": correlation_value,\n",
    "                    }\n",
    "                )\n",
    "\n",
    "    edge_results[year] = correlations"
   ]
  },
  {
   "cell_type": "code",
   "execution_count": 52,
   "metadata": {},
   "outputs": [
    {
     "data": {
      "text/plain": [
       "[{'id': 'A',\n",
       "  'name': 'Agilent Technologies, Inc.',\n",
       "  'sector': 'Healthcare',\n",
       "  'sectorId': 5,\n",
       "  'lastPrice': 137.6699981689453,\n",
       "  'meanPrice': 137.79876009097768,\n",
       "  'minPrice': 124.16000366210938,\n",
       "  'maxPrice': 155.35000610351562,\n",
       "  'totalVolume': 416595827.0},\n",
       " {'id': 'AAPL',\n",
       "  'name': 'Apple Inc.',\n",
       "  'sector': 'Technology',\n",
       "  'sectorId': 0,\n",
       "  'lastPrice': 251.0399932861328,\n",
       "  'meanPrice': 205.28669398284154,\n",
       "  'minPrice': 164.0800018310547,\n",
       "  'maxPrice': 251.37890625,\n",
       "  'totalVolume': 13869845677.0}]"
      ]
     },
     "execution_count": 52,
     "metadata": {},
     "output_type": "execute_result"
    }
   ],
   "source": [
    "node_result[2024][:2]"
   ]
  },
  {
   "cell_type": "code",
   "execution_count": 54,
   "metadata": {},
   "outputs": [
    {
     "data": {
      "text/plain": [
       "[{'source': 'AAPL', 'target': 'A', 'correlation': -0.1942282767501067},\n",
       " {'source': 'ABBV', 'target': 'A', 'correlation': 0.20831439671156127}]"
      ]
     },
     "execution_count": 54,
     "metadata": {},
     "output_type": "execute_result"
    }
   ],
   "source": [
    "edge_results[2024][:2]"
   ]
  },
  {
   "cell_type": "code",
   "execution_count": 5,
   "metadata": {},
   "outputs": [],
   "source": [
    "# Фильтруем акции которые не существовали в определенные годы\n",
    "def filer_results(results):\n",
    "    filtered_results = {}\n",
    "    for year, data in results.items():\n",
    "        filtered_data = []\n",
    "        for d in data:\n",
    "            if all([pd.notna(v) for v in d.values()]):\n",
    "                filtered_data.append(d)\n",
    "        filtered_results[year] = filtered_data\n",
    "\n",
    "    return filtered_results\n",
    "\n",
    "\n",
    "node_result = filer_results(node_result)\n",
    "edge_results = filer_results(edge_results)"
   ]
  },
  {
   "cell_type": "code",
   "execution_count": 6,
   "metadata": {},
   "outputs": [
    {
     "name": "stdout",
     "output_type": "stream",
     "text": [
      "Результаты сохранены в ../public/data/node_result.json\n",
      "Результаты сохранены в ../public/data/edge_results.json\n"
     ]
    }
   ],
   "source": [
    "import json\n",
    "\n",
    "# Путь к папке\n",
    "output_dir = \"../public/data\"\n",
    "os.makedirs(output_dir, exist_ok=True)\n",
    "\n",
    "# Сохранение результатов в JSON файл\n",
    "output_file = os.path.join(output_dir, \"node_result.json\")\n",
    "with open(output_file, \"w\") as f:\n",
    "    json.dump(node_result, f, indent=4)\n",
    "\n",
    "print(f\"Результаты сохранены в {output_file}\")\n",
    "\n",
    "# Сохранение результатов в JSON файл\n",
    "output_file = os.path.join(output_dir, \"edge_results.json\")\n",
    "with open(output_file, \"w\") as f:\n",
    "    json.dump(edge_results, f, indent=4)\n",
    "\n",
    "print(f\"Результаты сохранены в {output_file}\")"
   ]
  }
 ],
 "metadata": {
  "kernelspec": {
   "display_name": ".venv",
   "language": "python",
   "name": "python3"
  },
  "language_info": {
   "codemirror_mode": {
    "name": "ipython",
    "version": 3
   },
   "file_extension": ".py",
   "mimetype": "text/x-python",
   "name": "python",
   "nbconvert_exporter": "python",
   "pygments_lexer": "ipython3",
   "version": "3.13.0"
  }
 },
 "nbformat": 4,
 "nbformat_minor": 2
}
